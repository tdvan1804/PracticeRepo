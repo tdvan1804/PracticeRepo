{
  "cells": [
    {
      "cell_type": "markdown",
      "id": "558084c0",
      "metadata": {
        "id": "558084c0"
      },
      "source": [
        "# 🔒 PGD Adversarial Attack on MNIST Model\n",
        "This notebook demonstrates how to test a simple MNIST model against Projected Gradient Descent (PGD) attacks using `cleverhans`."
      ]
    },
    {
      "cell_type": "code",
      "execution_count": 11,
      "id": "9dd2962a",
      "metadata": {
        "colab": {
          "base_uri": "https://localhost:8080/"
        },
        "id": "9dd2962a",
        "outputId": "745e5860-72c2-4bfd-d9ec-310aa1f553ef"
      },
      "outputs": [
        {
          "output_type": "stream",
          "name": "stdout",
          "text": [
            "Requirement already satisfied: torch in /usr/local/lib/python3.11/dist-packages (2.6.0+cu124)\n",
            "Requirement already satisfied: torchvision in /usr/local/lib/python3.11/dist-packages (0.21.0+cu124)\n",
            "Requirement already satisfied: cleverhans in /usr/local/lib/python3.11/dist-packages (4.0.0)\n",
            "Requirement already satisfied: matplotlib in /usr/local/lib/python3.11/dist-packages (3.10.0)\n",
            "Requirement already satisfied: filelock in /usr/local/lib/python3.11/dist-packages (from torch) (3.18.0)\n",
            "Requirement already satisfied: typing-extensions>=4.10.0 in /usr/local/lib/python3.11/dist-packages (from torch) (4.13.2)\n",
            "Requirement already satisfied: networkx in /usr/local/lib/python3.11/dist-packages (from torch) (3.4.2)\n",
            "Requirement already satisfied: jinja2 in /usr/local/lib/python3.11/dist-packages (from torch) (3.1.6)\n",
            "Requirement already satisfied: fsspec in /usr/local/lib/python3.11/dist-packages (from torch) (2025.3.2)\n",
            "Requirement already satisfied: nvidia-cuda-nvrtc-cu12==12.4.127 in /usr/local/lib/python3.11/dist-packages (from torch) (12.4.127)\n",
            "Requirement already satisfied: nvidia-cuda-runtime-cu12==12.4.127 in /usr/local/lib/python3.11/dist-packages (from torch) (12.4.127)\n",
            "Requirement already satisfied: nvidia-cuda-cupti-cu12==12.4.127 in /usr/local/lib/python3.11/dist-packages (from torch) (12.4.127)\n",
            "Requirement already satisfied: nvidia-cudnn-cu12==9.1.0.70 in /usr/local/lib/python3.11/dist-packages (from torch) (9.1.0.70)\n",
            "Requirement already satisfied: nvidia-cublas-cu12==12.4.5.8 in /usr/local/lib/python3.11/dist-packages (from torch) (12.4.5.8)\n",
            "Requirement already satisfied: nvidia-cufft-cu12==11.2.1.3 in /usr/local/lib/python3.11/dist-packages (from torch) (11.2.1.3)\n",
            "Requirement already satisfied: nvidia-curand-cu12==10.3.5.147 in /usr/local/lib/python3.11/dist-packages (from torch) (10.3.5.147)\n",
            "Requirement already satisfied: nvidia-cusolver-cu12==11.6.1.9 in /usr/local/lib/python3.11/dist-packages (from torch) (11.6.1.9)\n",
            "Requirement already satisfied: nvidia-cusparse-cu12==12.3.1.170 in /usr/local/lib/python3.11/dist-packages (from torch) (12.3.1.170)\n",
            "Requirement already satisfied: nvidia-cusparselt-cu12==0.6.2 in /usr/local/lib/python3.11/dist-packages (from torch) (0.6.2)\n",
            "Requirement already satisfied: nvidia-nccl-cu12==2.21.5 in /usr/local/lib/python3.11/dist-packages (from torch) (2.21.5)\n",
            "Requirement already satisfied: nvidia-nvtx-cu12==12.4.127 in /usr/local/lib/python3.11/dist-packages (from torch) (12.4.127)\n",
            "Requirement already satisfied: nvidia-nvjitlink-cu12==12.4.127 in /usr/local/lib/python3.11/dist-packages (from torch) (12.4.127)\n",
            "Requirement already satisfied: triton==3.2.0 in /usr/local/lib/python3.11/dist-packages (from torch) (3.2.0)\n",
            "Requirement already satisfied: sympy==1.13.1 in /usr/local/lib/python3.11/dist-packages (from torch) (1.13.1)\n",
            "Requirement already satisfied: mpmath<1.4,>=1.1.0 in /usr/local/lib/python3.11/dist-packages (from sympy==1.13.1->torch) (1.3.0)\n",
            "Requirement already satisfied: numpy in /usr/local/lib/python3.11/dist-packages (from torchvision) (2.0.2)\n",
            "Requirement already satisfied: pillow!=8.3.*,>=5.3.0 in /usr/local/lib/python3.11/dist-packages (from torchvision) (11.1.0)\n",
            "Requirement already satisfied: nose in /usr/local/lib/python3.11/dist-packages (from cleverhans) (1.3.7)\n",
            "Requirement already satisfied: pycodestyle in /usr/local/lib/python3.11/dist-packages (from cleverhans) (2.13.0)\n",
            "Requirement already satisfied: scipy in /usr/local/lib/python3.11/dist-packages (from cleverhans) (1.14.1)\n",
            "Requirement already satisfied: mnist in /usr/local/lib/python3.11/dist-packages (from cleverhans) (0.2.2)\n",
            "Requirement already satisfied: tensorflow-probability in /usr/local/lib/python3.11/dist-packages (from cleverhans) (0.25.0)\n",
            "Requirement already satisfied: joblib in /usr/local/lib/python3.11/dist-packages (from cleverhans) (1.4.2)\n",
            "Requirement already satisfied: easydict in /usr/local/lib/python3.11/dist-packages (from cleverhans) (1.13)\n",
            "Requirement already satisfied: absl-py in /usr/local/lib/python3.11/dist-packages (from cleverhans) (1.4.0)\n",
            "Requirement already satisfied: six in /usr/local/lib/python3.11/dist-packages (from cleverhans) (1.17.0)\n",
            "Requirement already satisfied: contourpy>=1.0.1 in /usr/local/lib/python3.11/dist-packages (from matplotlib) (1.3.2)\n",
            "Requirement already satisfied: cycler>=0.10 in /usr/local/lib/python3.11/dist-packages (from matplotlib) (0.12.1)\n",
            "Requirement already satisfied: fonttools>=4.22.0 in /usr/local/lib/python3.11/dist-packages (from matplotlib) (4.57.0)\n",
            "Requirement already satisfied: kiwisolver>=1.3.1 in /usr/local/lib/python3.11/dist-packages (from matplotlib) (1.4.8)\n",
            "Requirement already satisfied: packaging>=20.0 in /usr/local/lib/python3.11/dist-packages (from matplotlib) (24.2)\n",
            "Requirement already satisfied: pyparsing>=2.3.1 in /usr/local/lib/python3.11/dist-packages (from matplotlib) (3.2.3)\n",
            "Requirement already satisfied: python-dateutil>=2.7 in /usr/local/lib/python3.11/dist-packages (from matplotlib) (2.8.2)\n",
            "Requirement already satisfied: MarkupSafe>=2.0 in /usr/local/lib/python3.11/dist-packages (from jinja2->torch) (3.0.2)\n",
            "Requirement already satisfied: decorator in /usr/local/lib/python3.11/dist-packages (from tensorflow-probability->cleverhans) (4.4.2)\n",
            "Requirement already satisfied: cloudpickle>=1.3 in /usr/local/lib/python3.11/dist-packages (from tensorflow-probability->cleverhans) (3.1.1)\n",
            "Requirement already satisfied: gast>=0.3.2 in /usr/local/lib/python3.11/dist-packages (from tensorflow-probability->cleverhans) (0.6.0)\n",
            "Requirement already satisfied: dm-tree in /usr/local/lib/python3.11/dist-packages (from tensorflow-probability->cleverhans) (0.1.9)\n",
            "Requirement already satisfied: attrs>=18.2.0 in /usr/local/lib/python3.11/dist-packages (from dm-tree->tensorflow-probability->cleverhans) (25.3.0)\n",
            "Requirement already satisfied: wrapt>=1.11.2 in /usr/local/lib/python3.11/dist-packages (from dm-tree->tensorflow-probability->cleverhans) (1.17.2)\n"
          ]
        }
      ],
      "source": [
        "!pip install torch torchvision cleverhans matplotlib"
      ]
    },
    {
      "cell_type": "code",
      "execution_count": 12,
      "id": "5faf6c99",
      "metadata": {
        "id": "5faf6c99"
      },
      "outputs": [],
      "source": [
        "import torch\n",
        "import torch.nn as nn\n",
        "import torchvision.transforms as transforms\n",
        "import torchvision.datasets as datasets\n",
        "import numpy as np\n",
        "import matplotlib.pyplot as plt\n",
        "from cleverhans.torch.attacks.projected_gradient_descent import projected_gradient_descent"
      ]
    },
    {
      "cell_type": "code",
      "execution_count": 13,
      "id": "e3ae7b2e",
      "metadata": {
        "id": "e3ae7b2e"
      },
      "outputs": [],
      "source": [
        "# Load MNIST test set\n",
        "transform = transforms.Compose([transforms.ToTensor()])\n",
        "test_dataset = datasets.MNIST(root=\"./data\", train=False, transform=transform, download=True)\n",
        "test_loader = torch.utils.data.DataLoader(test_dataset, batch_size=1, shuffle=True)"
      ]
    },
    {
      "cell_type": "code",
      "execution_count": 14,
      "id": "79bfc5d5",
      "metadata": {
        "colab": {
          "base_uri": "https://localhost:8080/"
        },
        "id": "79bfc5d5",
        "outputId": "8311fe05-41d5-483f-fce8-cbb90ab62ee9"
      },
      "outputs": [
        {
          "output_type": "stream",
          "name": "stdout",
          "text": [
            "--2025-04-24 07:25:26--  https://github.com/tdvan1804/PracticeRepo/raw/main/simple_mnist_model.pth\n",
            "Resolving github.com (github.com)... 140.82.112.4\n",
            "Connecting to github.com (github.com)|140.82.112.4|:443... connected.\n",
            "HTTP request sent, awaiting response... 302 Found\n",
            "Location: https://raw.githubusercontent.com/tdvan1804/PracticeRepo/main/simple_mnist_model.pth [following]\n",
            "--2025-04-24 07:25:26--  https://raw.githubusercontent.com/tdvan1804/PracticeRepo/main/simple_mnist_model.pth\n",
            "Resolving raw.githubusercontent.com (raw.githubusercontent.com)... 185.199.108.133, 185.199.109.133, 185.199.110.133, ...\n",
            "Connecting to raw.githubusercontent.com (raw.githubusercontent.com)|185.199.108.133|:443... connected.\n",
            "HTTP request sent, awaiting response... 200 OK\n",
            "Length: 32531 (32K) [application/octet-stream]\n",
            "Saving to: ‘simple_mnist_model.pth.1’\n",
            "\n",
            "simple_mnist_model. 100%[===================>]  31.77K  --.-KB/s    in 0.01s   \n",
            "\n",
            "2025-04-24 07:25:27 (3.16 MB/s) - ‘simple_mnist_model.pth.1’ saved [32531/32531]\n",
            "\n"
          ]
        },
        {
          "output_type": "execute_result",
          "data": {
            "text/plain": [
              "SimpleNN(\n",
              "  (fc): Linear(in_features=784, out_features=10, bias=True)\n",
              ")"
            ]
          },
          "metadata": {},
          "execution_count": 14
        }
      ],
      "source": [
        "# Define a simple model architecture\n",
        "class SimpleNN(nn.Module):\n",
        "    def __init__(self):\n",
        "        super(SimpleNN, self).__init__()\n",
        "        self.fc = nn.Linear(28 * 28, 10)\n",
        "\n",
        "    def forward(self, x):\n",
        "        x = x.view(-1, 28 * 28)\n",
        "        return self.fc(x)\n",
        "\n",
        "!wget https://github.com/tdvan1804/PracticeRepo/raw/main/simple_mnist_model.pth\n",
        "\n",
        "# Load pre-trained model (replace with path if needed)\n",
        "model = SimpleNN()\n",
        "model.load_state_dict(torch.load(\"simple_mnist_model.pth\", map_location=torch.device('cpu')))\n",
        "model.eval()"
      ]
    },
    {
      "cell_type": "code",
      "execution_count": 15,
      "id": "5f8fdf37",
      "metadata": {
        "colab": {
          "base_uri": "https://localhost:8080/",
          "height": 423
        },
        "id": "5f8fdf37",
        "outputId": "0ff410b1-decd-42e8-b42b-56b4d57f542c"
      },
      "outputs": [
        {
          "output_type": "display_data",
          "data": {
            "text/plain": [
              "<Figure size 800x400 with 2 Axes>"
            ],
            "image/png": "[encoded data removed]"
          },
          "metadata": {}
        },
        {
          "output_type": "stream",
          "name": "stdout",
          "text": [
            "Epsilon: 0.15\n",
            "✅ Accuracy on original images: 92.52%\n",
            "⚠️ Accuracy after PGD attack: 4.22%\n"
          ]
        }
      ],
      "source": [
        "# Test PGD attack at different epsilon values\n",
        "epsilon = 0.15\n",
        "correct_original = 0\n",
        "correct_adversarial = 0\n",
        "total = 0\n",
        "shown = False\n",
        "\n",
        "for image, label in test_loader:\n",
        "    image.requires_grad = True\n",
        "    output_original = model(image)\n",
        "    pred_original = output_original.argmax(dim=1)\n",
        "\n",
        "    adv_image = projected_gradient_descent(model, image, eps=epsilon, eps_iter=0.01, nb_iter=40, norm=np.inf)\n",
        "    output_adversarial = model(adv_image)\n",
        "    pred_adversarial = output_adversarial.argmax(dim=1)\n",
        "\n",
        "    correct_original += (pred_original == label).sum().item()\n",
        "    correct_adversarial += (pred_adversarial == label).sum().item()\n",
        "    total += label.size(0)\n",
        "\n",
        "    if not shown:\n",
        "        # Show original and adversarial image\n",
        "        fig, axs = plt.subplots(1, 2, figsize=(8, 4))\n",
        "        axs[0].imshow(image.squeeze().detach().numpy(), cmap='gray')\n",
        "        axs[0].set_title(f\"Original: {pred_original.item()}\")\n",
        "        axs[0].axis('off')\n",
        "\n",
        "        axs[1].imshow(adv_image.squeeze().detach().numpy(), cmap='gray')\n",
        "        axs[1].set_title(f\"Adversarial: {pred_adversarial.item()}\")\n",
        "        axs[1].axis('off')\n",
        "\n",
        "        plt.suptitle(f\"Epsilon = {epsilon}\")\n",
        "        plt.show()\n",
        "        shown = True\n",
        "\n",
        "acc_original = 100 * correct_original / total\n",
        "acc_adversarial = 100 * correct_adversarial / total\n",
        "\n",
        "print(f\"Epsilon: {epsilon}\")\n",
        "print(f\"✅ Accuracy on original images: {acc_original:.2f}%\")\n",
        "print(f\"⚠️ Accuracy after PGD attack: {acc_adversarial:.2f}%\")"
      ]
    }
  ],
  "metadata": {
    "colab": {
      "provenance": []
    },
    "language_info": {
      "name": "python"
    },
    "kernelspec": {
      "name": "python3",
      "display_name": "Python 3"
    }
  },
  "nbformat": 4,
  "nbformat_minor": 5
}