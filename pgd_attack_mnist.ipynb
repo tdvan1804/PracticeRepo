{
 "cells": [
  {
   "cell_type": "markdown",
   "id": "558084c0",
   "metadata": {},
   "source": [
    "# 🔒 PGD Adversarial Attack on MNIST Model\n",
    "This notebook demonstrates how to test a simple MNIST model against Projected Gradient Descent (PGD) attacks using `cleverhans`."
   ]
  },
  {
   "cell_type": "code",
   "execution_count": null,
   "id": "9dd2962a",
   "metadata": {},
   "outputs": [],
   "source": [
    "!pip install torch torchvision pandas cleverhans pytest"
   ]
  },
  {
   "cell_type": "code",
   "execution_count": null,
   "id": "5faf6c99",
   "metadata": {},
   "outputs": [],
   "source": [
    "import torch\n",
    "import torch.nn as nn\n",
    "import torchvision.transforms as transforms\n",
    "import torchvision.datasets as datasets\n",
    "import numpy as np\n",
    "import pandas as pd\n",
    "from cleverhans.torch.attacks.projected_gradient_descent import projected_gradient_descent"
   ]
  },
  {
   "cell_type": "code",
   "execution_count": null,
   "id": "e3ae7b2e",
   "metadata": {},
   "outputs": [],
   "source": [
    "# Load MNIST test set\n",
    "transform = transforms.Compose([transforms.ToTensor()])\n",
    "test_dataset = datasets.MNIST(root=\"./data\", train=False, transform=transform, download=True)\n",
    "test_loader = torch.utils.data.DataLoader(test_dataset, batch_size=1, shuffle=True)"
   ]
  },
  {
   "cell_type": "code",
   "execution_count": null,
   "id": "79bfc5d5",
   "metadata": {},
   "outputs": [],
   "source": [
    "# Define a simple model architecture\n",
    "class SimpleNN(nn.Module):\n",
    "    def __init__(self):\n",
    "        super(SimpleNN, self).__init__()\n",
    "        self.fc = nn.Linear(28 * 28, 10)\n",
    "\n",
    "    def forward(self, x):\n",
    "        x = x.view(-1, 28 * 28)\n",
    "        return self.fc(x)\n",
    "\n",
    "# Load pre-trained model (replace with path if needed)\n",
    "model = SimpleNN()\n",
    "model.load_state_dict(torch.load(\"simple_mnist_model.pth\", map_location=torch.device('cpu')))\n",
    "model.eval()"
   ]
  },
  {
   "cell_type": "code",
   "execution_count": null,
   "id": "5f8fdf37",
   "metadata": {},
   "outputs": [],
   "source": [
    "# Test PGD attack at different epsilon values\n",
    "epsilons = [0.0, 0.05, 0.1, 0.15, 0.2]\n",
    "results = []\n",
    "\n",
    "for epsilon in epsilons:\n",
    "    correct_original = 0\n",
    "    correct_adversarial = 0\n",
    "    total = 0\n",
    "\n",
    "    for image, label in test_loader:\n",
    "        image.requires_grad = True\n",
    "        output_original = model(image)\n",
    "        pred_original = output_original.argmax(dim=1)\n",
    "\n",
    "        adv_image = projected_gradient_descent(model, image, eps=epsilon, eps_iter=0.01, nb_iter=40, norm=np.inf)\n",
    "        output_adversarial = model(adv_image)\n",
    "        pred_adversarial = output_adversarial.argmax(dim=1)\n",
    "\n",
    "        correct_original += (pred_original == label).sum().item()\n",
    "        correct_adversarial += (pred_adversarial == label).sum().item()\n",
    "        total += label.size(0)\n",
    "\n",
    "    acc_original = 100 * correct_original / total\n",
    "    acc_adversarial = 100 * correct_adversarial / total\n",
    "    results.append({\"Epsilon\": epsilon, \"Accuracy_Original\": acc_original, \"Accuracy_Adversarial\": acc_adversarial})\n",
    "    print(f\"Epsilon: {epsilon}\")\n",
    "    print(f\"✅ Accuracy on original images: {acc_original:.2f}%\")\n",
    "    print(f\"⚠️ Accuracy after PGD attack: {acc_adversarial:.2f}%\")"
   ]
  },
  {
   "cell_type": "code",
   "execution_count": null,
   "id": "b6f578d8",
   "metadata": {},
   "outputs": [],
   "source": [
    "# Save results to CSV\n",
    "df = pd.DataFrame(results)\n",
    "df.to_csv(\"pgd_attack_results.csv\", index=False)\n",
    "print(\"📂 Results saved to pgd_attack_results.csv\")"
   ]
  }
 ],
 "metadata": {},
 "nbformat": 4,
 "nbformat_minor": 5
}
